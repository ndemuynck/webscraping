{
 "cells": [
  {
   "cell_type": "markdown",
   "metadata": {},
   "source": [
    "## Webscraping"
   ]
  },
  {
   "cell_type": "markdown",
   "metadata": {},
   "source": [
    "### Import the libraries"
   ]
  },
  {
   "cell_type": "code",
   "execution_count": 41,
   "metadata": {},
   "outputs": [],
   "source": [
    "import requests\n",
    "from bs4 import BeautifulSoup\n",
    "import pandas as pd"
   ]
  },
  {
   "cell_type": "markdown",
   "metadata": {},
   "source": [
    "### Use request library"
   ]
  },
  {
   "cell_type": "code",
   "execution_count": 2,
   "metadata": {},
   "outputs": [],
   "source": [
    "url = 'https://www.uefa.com/uefachampionsleague/standings/'"
   ]
  },
  {
   "cell_type": "code",
   "execution_count": 3,
   "metadata": {},
   "outputs": [],
   "source": [
    "page = requests.get(url) #download page"
   ]
  },
  {
   "cell_type": "code",
   "execution_count": 6,
   "metadata": {},
   "outputs": [
    {
     "name": "stdout",
     "output_type": "stream",
     "text": [
      "<Response [200]>\n",
      "200\n"
     ]
    }
   ],
   "source": [
    "print (page)\n",
    "print(page.status_code) #number 200 means succesfull, any other number for ex. 84 is failed."
   ]
  },
  {
   "cell_type": "code",
   "execution_count": 20,
   "metadata": {},
   "outputs": [],
   "source": [
    "#print(page.text) #html format"
   ]
  },
  {
   "cell_type": "markdown",
   "metadata": {},
   "source": [
    "### Use BeautifulSoup library"
   ]
  },
  {
   "cell_type": "code",
   "execution_count": 10,
   "metadata": {},
   "outputs": [],
   "source": [
    "soup = BeautifulSoup(page.text, 'html.parser')"
   ]
  },
  {
   "cell_type": "code",
   "execution_count": 21,
   "metadata": {},
   "outputs": [],
   "source": [
    "#print(soup.prettify) #display previous html format in a different more readable way (tree format)"
   ]
  },
  {
   "cell_type": "code",
   "execution_count": 22,
   "metadata": {},
   "outputs": [],
   "source": [
    "#print(soup.find('a')) #find the first 'a' tag"
   ]
  },
  {
   "cell_type": "code",
   "execution_count": 23,
   "metadata": {},
   "outputs": [],
   "source": [
    "#print(soup.find_all('a')) #find all the 'a' tags"
   ]
  },
  {
   "cell_type": "code",
   "execution_count": 24,
   "metadata": {},
   "outputs": [],
   "source": [
    "#soup.find_all('a')[1] # find second 'a' tag"
   ]
  },
  {
   "cell_type": "code",
   "execution_count": 25,
   "metadata": {},
   "outputs": [],
   "source": [
    "league = soup.find('div', class_ = 'd3-plugin standings standings--full')\n",
    "#print(league)"
   ]
  },
  {
   "cell_type": "code",
   "execution_count": 28,
   "metadata": {},
   "outputs": [],
   "source": [
    "league_standings = league.find_all('tbody')\n",
    "#print(league_standings)"
   ]
  },
  {
   "cell_type": "code",
   "execution_count": 39,
   "metadata": {},
   "outputs": [
    {
     "name": "stdout",
     "output_type": "stream",
     "text": [
      "BAY\n",
      "\n",
      "                    FC Bayern München\n",
      "                    Playing now 13\n",
      "ATL\n",
      "\n",
      "                    Club Atlético de Madrid\n",
      "                    Playing now 6\n",
      "SBG\n",
      "\n",
      "                    FC Salzburg\n",
      "                    Playing now 4\n",
      "LMO\n",
      "\n",
      "                    FC Lokomotiv Moskva\n",
      "                    Playing now 3\n",
      "MON\n",
      "\n",
      "                    VfL Borussia Mönchengladbach\n",
      "                    Playing now 8\n",
      "SHK\n",
      "\n",
      "                    FC Shakhtar Donetsk\n",
      "                    Playing now 7\n",
      "RM\n",
      "\n",
      "                    Real Madrid CF\n",
      "                    Playing now 7\n",
      "INT\n",
      "\n",
      "                    FC Internazionale Milano\n",
      "                    Playing now 5\n",
      "MC\n",
      "\n",
      "                    Manchester City FC\n",
      "                    Playing now 13\n",
      "POR\n",
      "\n",
      "                    FC Porto\n",
      "                    Playing now 10\n",
      "OLY\n",
      "\n",
      "                    Olympiacos FC\n",
      "                    Playing now 3\n",
      "OM\n",
      "\n",
      "                    Olympique de Marseille\n",
      "                    Playing now 3\n",
      "LIV\n",
      "\n",
      "                    Liverpool FC\n",
      "                    Playing now 12\n",
      "ATA\n",
      "\n",
      "                    Atalanta BC\n",
      "                    Playing now 8\n",
      "AJX\n",
      "\n",
      "                    AFC Ajax\n",
      "                    Playing now 7\n",
      "MID\n",
      "\n",
      "                    FC Midtjylland\n",
      "                    Playing now 1\n",
      "CHE\n",
      "\n",
      "                    Chelsea FC\n",
      "                    Playing now 13\n",
      "SEV\n",
      "\n",
      "                    Sevilla FC\n",
      "                    Playing now 10\n",
      "KRA\n",
      "\n",
      "                    FC Krasnodar\n",
      "                    Playing now 4\n",
      "REN\n",
      "\n",
      "                    Stade Rennais FC\n",
      "                    Playing now 1\n",
      "BVB\n",
      "\n",
      "                    Borussia Dortmund\n",
      "                    Playing now 10\n",
      "LAZ\n",
      "\n",
      "                    SS Lazio\n",
      "                    Playing now 9\n",
      "BRU\n",
      "\n",
      "                    Club Brugge\n",
      "                    Playing now 7\n",
      "ZEN\n",
      "\n",
      "                    FC Zenit\n",
      "                    Playing now 1\n",
      "BAR\n",
      "\n",
      "                    FC Barcelona\n",
      "                    Playing now 15\n",
      "JUV\n",
      "\n",
      "                    Juventus\n",
      "                    Playing now 12\n",
      "DK\n",
      "\n",
      "                    FC Dynamo Kyiv\n",
      "                    Playing now 1\n",
      "FER\n",
      "\n",
      "                    Ferencvárosi TC\n",
      "                    Playing now 1\n",
      "MU\n",
      "\n",
      "                    Manchester United FC\n",
      "                    Playing now 9\n",
      "PAR\n",
      "\n",
      "                    Paris Saint-Germain\n",
      "                    Playing now 9\n",
      "LEI\n",
      "\n",
      "                    RB Leipzig\n",
      "                    Playing now 9\n",
      "BFK\n",
      "\n",
      "                    İstanbul Başakşehir\n",
      "                    Playing now 3\n"
     ]
    }
   ],
   "source": [
    "for league_teams in league_standings:\n",
    "    rows = league_teams.find_all('tr')\n",
    "    for row in rows:\n",
    "        team_names = row.find('td', class_ = 'table_team-name').text.strip()\n",
    "        team_points = row.find('td', class_ = 'table_team-points').text.strip() #stel dat class '=' => []\n",
    "        print(team_names, team_points)"
   ]
  },
  {
   "cell_type": "markdown",
   "metadata": {},
   "source": [
    "### Make a dataframe"
   ]
  },
  {
   "cell_type": "code",
   "execution_count": 49,
   "metadata": {},
   "outputs": [],
   "source": [
    "cl_2020 = []\n",
    "for league_teams in league_standings:\n",
    "    rows = league_teams.find_all('tr')\n",
    "    for row in rows:\n",
    "        team_names = row.find('td', class_ = 'table_team-name').text.strip()\n",
    "        team_points = row.find('td', class_ = 'table_team-points').text.strip()\n",
    "        league_dict = {'team': team_names,\n",
    "                      'points': team_points\n",
    "                      }\n",
    "        cl_2020.append(league_dict)"
   ]
  },
  {
   "cell_type": "code",
   "execution_count": 50,
   "metadata": {},
   "outputs": [
    {
     "data": {
      "text/html": [
       "<div>\n",
       "<style scoped>\n",
       "    .dataframe tbody tr th:only-of-type {\n",
       "        vertical-align: middle;\n",
       "    }\n",
       "\n",
       "    .dataframe tbody tr th {\n",
       "        vertical-align: top;\n",
       "    }\n",
       "\n",
       "    .dataframe thead th {\n",
       "        text-align: right;\n",
       "    }\n",
       "</style>\n",
       "<table border=\"1\" class=\"dataframe\">\n",
       "  <thead>\n",
       "    <tr style=\"text-align: right;\">\n",
       "      <th></th>\n",
       "      <th>team</th>\n",
       "      <th>points</th>\n",
       "    </tr>\n",
       "  </thead>\n",
       "  <tbody>\n",
       "    <tr>\n",
       "      <th>0</th>\n",
       "      <td>BAY\\n\\r\\n                    FC Bayern München...</td>\n",
       "      <td>13</td>\n",
       "    </tr>\n",
       "    <tr>\n",
       "      <th>1</th>\n",
       "      <td>ATL\\n\\r\\n                    Club Atlético de ...</td>\n",
       "      <td>6</td>\n",
       "    </tr>\n",
       "    <tr>\n",
       "      <th>2</th>\n",
       "      <td>SBG\\n\\r\\n                    FC Salzburg\\r\\n  ...</td>\n",
       "      <td>4</td>\n",
       "    </tr>\n",
       "    <tr>\n",
       "      <th>3</th>\n",
       "      <td>LMO\\n\\r\\n                    FC Lokomotiv Mosk...</td>\n",
       "      <td>3</td>\n",
       "    </tr>\n",
       "    <tr>\n",
       "      <th>4</th>\n",
       "      <td>MON\\n\\r\\n                    VfL Borussia Mönc...</td>\n",
       "      <td>8</td>\n",
       "    </tr>\n",
       "  </tbody>\n",
       "</table>\n",
       "</div>"
      ],
      "text/plain": [
       "                                                team points\n",
       "0  BAY\\n\\r\\n                    FC Bayern München...     13\n",
       "1  ATL\\n\\r\\n                    Club Atlético de ...      6\n",
       "2  SBG\\n\\r\\n                    FC Salzburg\\r\\n  ...      4\n",
       "3  LMO\\n\\r\\n                    FC Lokomotiv Mosk...      3\n",
       "4  MON\\n\\r\\n                    VfL Borussia Mönc...      8"
      ]
     },
     "execution_count": 50,
     "metadata": {},
     "output_type": "execute_result"
    }
   ],
   "source": [
    "df = pd.DataFrame(cl_2020)\n",
    "df.head(5)"
   ]
  },
  {
   "cell_type": "code",
   "execution_count": null,
   "metadata": {},
   "outputs": [],
   "source": []
  }
 ],
 "metadata": {
  "kernelspec": {
   "display_name": "Python 3",
   "language": "python",
   "name": "python3"
  },
  "language_info": {
   "codemirror_mode": {
    "name": "ipython",
    "version": 3
   },
   "file_extension": ".py",
   "mimetype": "text/x-python",
   "name": "python",
   "nbconvert_exporter": "python",
   "pygments_lexer": "ipython3",
   "version": "3.8.3"
  }
 },
 "nbformat": 4,
 "nbformat_minor": 4
}
